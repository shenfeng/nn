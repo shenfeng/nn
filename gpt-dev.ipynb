{
 "cells": [
  {
   "cell_type": "code",
   "execution_count": 2,
   "metadata": {},
   "outputs": [],
   "source": [
    "import torch\n",
    "import torch.nn as nn\n",
    "import torch.nn.functional as F\n",
    "import matplotlib.pyplot as plt\n",
    "torch.set_printoptions(sci_mode=False, precision=4)\n",
    "\n",
    "%matplotlib inline"
   ]
  },
  {
   "cell_type": "code",
   "execution_count": 4,
   "metadata": {},
   "outputs": [
    {
     "name": "stdout",
     "output_type": "stream",
     "text": [
      "[58, 46, 47, 57, 1, 47, 57, 1, 39, 1, 58, 43, 57, 58]\n",
      "this is a test\n",
      "tensor([18, 47, 56, 57, 58,  1, 15, 47, 58, 47]) torch.Size([1115394])\n"
     ]
    }
   ],
   "source": [
    "text = open('input.txt').read()\n",
    "chars = sorted(set(text))\n",
    "vocab_size = len(chars)\n",
    "stoi = {s:i for i, s in enumerate(chars)}\n",
    "\n",
    "encode = lambda s: [stoi[c] for c in s]\n",
    "decode = lambda l: ''.join(chars[i] for i in l)\n",
    "\n",
    "data = torch.tensor(encode(text), dtype=torch.long)\n",
    "\n",
    "print(encode('this is a test'))\n",
    "print(decode(encode('this is a test')))\n",
    "print(data[:10], data.shape)\n",
    "\n",
    "n = int(0.9 * len(data))\n",
    "train_data = data[:n]\n",
    "val_data = data[n:]"
   ]
  },
  {
   "cell_type": "code",
   "execution_count": 50,
   "metadata": {},
   "outputs": [
    {
     "name": "stdout",
     "output_type": "stream",
     "text": [
      "torch.Size([4, 8]) torch.Size([4, 8])\n",
      "tensor([[57,  1, 46, 47, 57,  1, 50, 53],\n",
      "        [ 1, 58, 46, 43, 56, 43,  1, 41],\n",
      "        [17, 26, 15, 17, 10,  0, 32, 53],\n",
      "        [57, 58,  6,  1, 61, 47, 58, 46]])\n",
      "tensor([[ 1, 46, 47, 57,  1, 50, 53, 60],\n",
      "        [58, 46, 43, 56, 43,  1, 41, 39],\n",
      "        [26, 15, 17, 10,  0, 32, 53,  1],\n",
      "        [58,  6,  1, 61, 47, 58, 46,  0]])\n"
     ]
    }
   ],
   "source": [
    "torch.manual_seed(42)\n",
    "block_size = 8\n",
    "batch_size = 4\n",
    "\n",
    "def get_batch(split, batch_size=4):\n",
    "    d = train_data if split == 'train' else val_data\n",
    "    ix = torch.randint(len(d) - block_size, (batch_size, ))\n",
    "    x = torch.stack([d[i:i+block_size] for i in ix])\n",
    "    y = torch.stack([d[i + 1:i+block_size + 1] for i in ix])\n",
    "    return x, y\n",
    "\n",
    "xb, yb = get_batch('train')\n",
    "print(xb.shape, yb.shape)\n",
    "\n",
    "print(xb)\n",
    "print(yb)"
   ]
  },
  {
   "cell_type": "code",
   "execution_count": 33,
   "metadata": {},
   "outputs": [],
   "source": [
    "class BigramModel(nn.Module):\n",
    "    def __init__(self, vocab_size):\n",
    "        super().__init__()\n",
    "        self.emb = nn.Embedding(vocab_size, vocab_size)\n",
    "    \n",
    "    def forward(self, idx, targets=None):\n",
    "        logits = self.emb(idx) \n",
    "        loss = None\n",
    "        if targets is not None:\n",
    "            B, T, C = logits.shape\n",
    "            logits = logits.view(-1, C)\n",
    "            targets = targets.view(-1)\n",
    "            loss = F.cross_entropy(logits, targets) \n",
    "        return logits, loss\n",
    "    \n",
    "    def generate(self, idx, max_new):\n",
    "        for _ in range(max_new):\n",
    "            logits, loss = self(idx)\n",
    "            logits = logits[:, -1, :] # B, C\n",
    "            probs = F.softmax(logits, dim=-1) # B, C\n",
    "            idx_n = torch.multinomial(probs, 1) # B, 1\n",
    "            idx = torch.cat((idx, idx_n), dim=1) # B, T + 1\n",
    "            if idx.shape[0] > block_size:\n",
    "                idx = idx[:,-block_size:]\n",
    "        \n",
    "        return idx\n",
    "\n",
    "\n",
    "model = BigramModel(vocab_size)\n",
    "model(xb, yb)\n",
    "xb.shape\n",
    "\n",
    "# a = torch.randn((4, 20))\n",
    "# a[:,-2:],a\n",
    "\n",
    "optimizer = torch.optim.AdamW(model.parameters(), 1e-3)"
   ]
  },
  {
   "cell_type": "code",
   "execution_count": 34,
   "metadata": {},
   "outputs": [
    {
     "name": "stdout",
     "output_type": "stream",
     "text": [
      "0 4.750208854675293\n",
      "2000 3.059946060180664\n",
      "4000 2.5275557041168213\n",
      "6000 2.4778711795806885\n",
      "8000 2.4325366020202637\n"
     ]
    }
   ],
   "source": [
    "batch_size = 32\n",
    "for step in range(10000):\n",
    "    xb, yb = get_batch('train')\n",
    "    logits, loss = model(xb, yb)\n",
    "    optimizer.zero_grad(set_to_none=True)\n",
    "    loss.backward()\n",
    "    optimizer.step()\n",
    "    if step % 2000 == 0:\n",
    "        print(step, loss.item())\n",
    "\n"
   ]
  },
  {
   "cell_type": "code",
   "execution_count": 46,
   "metadata": {},
   "outputs": [
    {
     "name": "stdout",
     "output_type": "stream",
     "text": [
      " ! iurawheljouryby; avere 'sen;-Pleteeoru mive S: otor:fr y SThe wid ingord, ment aup, l:\n",
      "MA:\n",
      "DIst mpugh he le at horank.\n",
      "\n",
      "th DYom.\n",
      "Fors wot's wharscrof frs.\n",
      "iney atanllonconon y,\n",
      "On tharoulvef oar bean tyal lt, at peld. RI os s IZO:\n",
      "AUCu wen'lldd\n",
      "\n",
      "\n",
      "t.\n",
      "core\n",
      "f bad,\n",
      "\n",
      "ANThe wat at chan cr w t prive and; ler th s,\n",
      "TLour EShe ie omy ajremeaff paAREsiombes thve Cuengly LOnenowe, ie!\n",
      "LAREDUMo iTh\n",
      "INULOLI h Loword thahangas whestorurond tlong:\n",
      "Shert.\n",
      "\n",
      "d t llt rofforedweryer iper ag lil\n",
      "\n",
      "\n",
      "CHoththengouncon \n",
      "!&do liverofuc;\n",
      "Wowto thankt RI w ie, inout othuthe peth bus y trt ffa cow f s beme f, hy asom s HEThert chesh VOR: f\n",
      "quig, vol by, ceimy mukstythimprit ble harive ls; ge fopouse,\n",
      "Whis re is\n",
      "\n",
      "Anchablss IAEESTh w t n crK:\n",
      "\n",
      "AUn hed, clemy tine y;ouct id w't waniluste yofta af astoairer by r rofo het outhepamamysongr orofotothent hou odit didat by!\n",
      "S mawisish ou fraf t let, rsps w LOf sh ss frtothere avee botintordPUMESCiceat thong arniveanche toftrcesobais.\n",
      "BEk s sud h f act Windou lin ord atht.\n",
      "\n",
      "OF\n"
     ]
    }
   ],
   "source": [
    "for a in model.generate(torch.tensor([[1, 2], [2, 4]]), 500):\n",
    "    print(decode(a.tolist()))\n"
   ]
  },
  {
   "cell_type": "code",
   "execution_count": 76,
   "metadata": {},
   "outputs": [
    {
     "data": {
      "text/plain": [
       "tensor([[57,  1, 59, 58, 51, 53, 57, 58],\n",
       "        [57,  1, 59, 58, 51, 53, 57, 58],\n",
       "        [58, 43, 52, 39, 52, 58, 10,  0],\n",
       "        [ 1, 51, 43,  1, 57, 51, 43, 39],\n",
       "        [63, 47, 43, 50, 42, 43, 42,  0]])"
      ]
     },
     "execution_count": 76,
     "metadata": {},
     "output_type": "execute_result"
    }
   ],
   "source": [
    "xb, yb = get_batch('train', 4)\n",
    "\n",
    "x1 = xb[:, :-1]\n",
    "x2 = xb[:, 1:]\n",
    "torch.cat([x1, x2], dim=-1)\n",
    "xb[0].view(1, -1), xb\n",
    "torch.cat((xb[0].view(1, -1),xb), dim=0)\n"
   ]
  },
  {
   "cell_type": "code",
   "execution_count": 131,
   "metadata": {},
   "outputs": [
    {
     "name": "stdout",
     "output_type": "stream",
     "text": [
      "tensor([[ 0.1808, -0.0700],\n",
      "        [-0.0894, -0.4926],\n",
      "        [ 0.1490, -0.3199],\n",
      "        [ 0.3504, -0.2238],\n",
      "        [ 0.3525,  0.0545],\n",
      "        [ 0.0688, -0.0396],\n",
      "        [ 0.0927, -0.0682],\n",
      "        [-0.0341,  0.1332]]) tensor([[ 0.1808, -0.0700],\n",
      "        [-0.0894, -0.4926],\n",
      "        [ 0.1490, -0.3199],\n",
      "        [ 0.3504, -0.2238],\n",
      "        [ 0.3525,  0.0545],\n",
      "        [ 0.0688, -0.0396],\n",
      "        [ 0.0927, -0.0682],\n",
      "        [-0.0341,  0.1332]])\n"
     ]
    }
   ],
   "source": [
    "torch.manual_seed(1337)\n",
    "\n",
    "B, T, C = 4, 8, 2\n",
    "x = torch.randn((B, T, C))\n",
    "\n",
    "xbow = torch.zeros((B, T, C))\n",
    "\n",
    "for b in range(B):\n",
    "    for t in range(T):\n",
    "        xpre = x[b, :t+1, :]\n",
    "        xbow[b, t, :] = xpre.mean(dim=0)\n",
    "        # print(xpre, )\n",
    "\n",
    "tril = torch.tril(torch.ones(T, T))\n",
    "wei = torch.zeros((T, T))\n",
    "wei = wei.masked_fill(tril == 0, float('-inf'))\n",
    "wei = F.softmax(wei, dim=1)\n",
    "\n",
    "xbow2 = wei @ x\n",
    "print(xbow[0], xbow2[0])\n"
   ]
  },
  {
   "cell_type": "code",
   "execution_count": 132,
   "metadata": {},
   "outputs": [],
   "source": [
    "torch.manual_seed(1337)\n",
    "\n",
    "B, T, C = 4, 8, 32\n",
    "x = torch.randn((B, T, C))\n",
    "\n",
    "head_size = 16\n",
    "key = nn.Linear(C, head_size, bias=False)\n",
    "query = nn.Linear(C, head_size, bias=False)\n",
    "q = query(x)\n",
    "k = key(x)\n",
    "wei = q @ k.transpose(-2, -1)\n",
    "\n",
    "# tril = torch.tril(torch.ones(T, T))\n",
    "# wei = torch.zeros((T, T))\n",
    "# wei = wei.masked_fill(tril == 0, float('-inf'))\n",
    "# wei = F.softmax(wei, dim=1)\n",
    "\n",
    "# xbow2 = wei @ x\n",
    "# print(xbow[0], xbow2[0])"
   ]
  },
  {
   "cell_type": "code",
   "execution_count": 133,
   "metadata": {},
   "outputs": [
    {
     "data": {
      "text/plain": [
       "tensor([[[    -1.7629,     -1.3011,      0.5652,      2.1616,     -1.0674,\n",
       "               1.9632,      1.0765,     -0.4530],\n",
       "         [    -3.3334,     -1.6556,      0.1040,      3.3782,     -2.1825,\n",
       "               1.0415,     -0.0557,      0.2927],\n",
       "         [    -1.0226,     -1.2606,      0.0762,     -0.3813,     -0.9843,\n",
       "              -1.4303,      0.0749,     -0.9547],\n",
       "         [     0.7836,     -0.8014,     -0.3368,     -0.8496,     -0.5602,\n",
       "              -1.1701,     -1.2927,     -1.0260],\n",
       "         [    -1.2566,      0.0187,     -0.7880,     -1.3204,      2.0363,\n",
       "               0.8638,      0.3719,      0.9258],\n",
       "         [    -0.3126,      2.4152,     -0.1106,     -0.9931,      3.3449,\n",
       "              -2.5229,      1.4187,      1.2196],\n",
       "         [     1.0876,      1.9652,     -0.2621,     -0.3158,      0.6091,\n",
       "               1.2616,     -0.5484,      0.8048],\n",
       "         [    -1.8044,     -0.4126,     -0.8306,      0.5898,     -0.7987,\n",
       "              -0.5856,      0.6433,      0.6303]],\n",
       "\n",
       "        [[    -0.7353,     -1.7807,      1.0745,     -0.2743,      1.6347,\n",
       "               1.4177,     -0.5521,     -2.3580],\n",
       "         [    -3.0892,     -1.4943,     -0.2617,      2.2760,     -0.2436,\n",
       "               0.1620,      2.5783,      0.3959],\n",
       "         [    -0.5021,     -2.0745,      0.5378,     -0.4049,      0.8329,\n",
       "               1.3570,     -1.5621,     -1.6490],\n",
       "         [     1.3810,     -0.1471,      1.2181,     -0.2227,     -1.8247,\n",
       "              -3.7044,     -2.1321,      1.3178],\n",
       "         [    -2.3568,     -0.4617,     -0.8820,      2.3700,      0.6783,\n",
       "               0.1626,      1.9379,      0.1040],\n",
       "         [    -0.9243,     -0.6235,     -1.3938,      1.3336,     -0.0090,\n",
       "              -3.1789,      0.9026,      3.6256],\n",
       "         [    -0.6552,      1.0991,     -2.1399,      0.9647,      0.9946,\n",
       "               0.9390,      0.4680,     -0.3587],\n",
       "         [     1.5463,     -0.4944,     -0.0142,     -0.9743,      1.3779,\n",
       "               0.0079,     -0.5359,     -0.4553]],\n",
       "\n",
       "        [[    -0.3790,      0.5159,      0.3033,      1.1303,      2.0511,\n",
       "               2.2323,      3.1239,     -1.2231],\n",
       "         [     0.1038,      0.1758,     -0.1637,      0.5233,     -2.2172,\n",
       "              -0.8777,      0.1702,     -1.0842],\n",
       "         [    -1.6373,     -0.6556,     -0.8503,      2.3457,     -0.9950,\n",
       "              -0.0492,      0.5516,      1.5285],\n",
       "         [    -2.7155,      1.9022,     -0.8462,      0.5906,      2.1122,\n",
       "               0.8897,     -2.0679,     -0.7425],\n",
       "         [     2.5044,     -0.4969,     -0.2630,     -0.1629,     -1.7459,\n",
       "               0.0863,      2.7739,     -0.0250],\n",
       "         [    -0.0486,      0.4962,     -0.2086,     -0.0846,      0.3681,\n",
       "               0.7871,     -0.1968,      0.4109],\n",
       "         [    -1.7485,      0.4623,      0.0039,      2.1114,      1.2731,\n",
       "               2.1582,      1.3125,      2.0600],\n",
       "         [    -0.0855,     -0.0154,     -1.3915,      0.0631,     -0.2453,\n",
       "              -0.2068,     -2.2102,      0.4453]],\n",
       "\n",
       "        [[     0.4516,      0.3215,     -3.1926,      0.3077,     -0.6161,\n",
       "               0.2563,     -0.2989,     -2.1917],\n",
       "         [    -0.4001,     -0.9621,      1.9568,      0.6661,     -0.3263,\n",
       "               0.2626,     -1.3973,     -0.8945],\n",
       "         [    -0.4620,      0.5860,     -4.6738,     -0.3218,      1.2684,\n",
       "              -0.1740,      1.2461,     -2.2283],\n",
       "         [    -0.7175,     -1.0279,     -2.0509,     -2.7234,      0.3123,\n",
       "              -0.1642,      1.5162,     -0.7767],\n",
       "         [    -0.4039,      0.5160,     -2.0697,     -0.4098,     -0.8053,\n",
       "               0.5221,     -0.4124,      1.3377],\n",
       "         [     0.8232,      3.0237,     -3.0655,      0.7040,      0.6721,\n",
       "              -0.4669,      2.3746,      0.3118],\n",
       "         [    -1.4141,     -1.4241,     -0.8039,     -1.7450,     -0.7403,\n",
       "               0.9819,     -0.9006,     -2.3158],\n",
       "         [    -0.5028,      1.6844,     -0.4185,      1.0239,      1.0275,\n",
       "               0.1398,      0.4882,      1.5573]]],\n",
       "       grad_fn=<UnsafeViewBackward0>)"
      ]
     },
     "execution_count": 133,
     "metadata": {},
     "output_type": "execute_result"
    }
   ],
   "source": [
    "wei"
   ]
  }
 ],
 "metadata": {
  "kernelspec": {
   "display_name": ".venv",
   "language": "python",
   "name": "python3"
  },
  "language_info": {
   "codemirror_mode": {
    "name": "ipython",
    "version": 3
   },
   "file_extension": ".py",
   "mimetype": "text/x-python",
   "name": "python",
   "nbconvert_exporter": "python",
   "pygments_lexer": "ipython3",
   "version": "3.12.5"
  }
 },
 "nbformat": 4,
 "nbformat_minor": 2
}
