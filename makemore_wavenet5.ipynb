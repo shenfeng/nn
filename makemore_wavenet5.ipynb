{
 "cells": [
  {
   "cell_type": "code",
   "execution_count": 12,
   "metadata": {},
   "outputs": [],
   "source": [
    "import torch\n",
    "import torch.nn as nn\n",
    "import torch.nn.functional as F\n",
    "import matplotlib.pyplot as plt\n",
    "torch.set_printoptions(sci_mode=False, precision=4)\n",
    "\n",
    "%matplotlib inline"
   ]
  },
  {
   "cell_type": "code",
   "execution_count": 13,
   "metadata": {},
   "outputs": [
    {
     "data": {
      "text/plain": [
       "(['emma',\n",
       "  'olivia',\n",
       "  'ava',\n",
       "  'isabella',\n",
       "  'sophia',\n",
       "  'charlotte',\n",
       "  'mia',\n",
       "  'amelia',\n",
       "  'harper',\n",
       "  'evelyn'],\n",
       " 32033)"
      ]
     },
     "execution_count": 13,
     "metadata": {},
     "output_type": "execute_result"
    }
   ],
   "source": [
    "words = open('names.txt', 'r').read().splitlines()\n",
    "words[:10], len(words)"
   ]
  },
  {
   "cell_type": "code",
   "execution_count": 14,
   "metadata": {},
   "outputs": [],
   "source": [
    "chars = ''.join(sorted(set(''.join(words))))\n",
    "stoi = {s:i + 1 for i, s in enumerate(chars)}\n",
    "stoi['.'] = 0\n",
    "itos = {i: s for s, i in stoi.items()}\n",
    "vocab_size = len(stoi)"
   ]
  },
  {
   "cell_type": "code",
   "execution_count": 156,
   "metadata": {},
   "outputs": [],
   "source": [
    "block_size = 8  # context length: how many characters to look back\n",
    "\n",
    "def build_ds(words):\n",
    "    X, Y = [], []\n",
    "    for w in words:\n",
    "        # print(w)\n",
    "        context = [0] * block_size\n",
    "        for c in w + '.':\n",
    "            ix = stoi[c]\n",
    "            X.append(context)\n",
    "            Y.append(ix)\n",
    "\n",
    "            # print(''.join(itos[i] for i in context), '->', itos[ix])\n",
    "            context = context[1:] + [ix]\n",
    "\n",
    "    X = torch.tensor(X)\n",
    "    Y = torch.tensor(Y)\n",
    "    return X, Y\n",
    "\n",
    "import random\n",
    "random.seed(42)\n",
    "random.shuffle(words)\n",
    "n = len(words)\n",
    "n1 = int(n * 0.8)\n",
    "n2 = int(n * 0.9)\n",
    "\n",
    "Xtr, Ytr = build_ds(words[:n1])\n",
    "Xdev, Ydev = build_ds(words[n1:n2])\n",
    "Xte, Yte = build_ds(words[n2:])\n"
   ]
  },
  {
   "cell_type": "code",
   "execution_count": 201,
   "metadata": {},
   "outputs": [],
   "source": [
    "class  Linear:\n",
    "    def __init__(self, fan_in, fan_out, bias=True):\n",
    "        self.weight = torch.randn((fan_in, fan_out)) / fan_in ** 0.5\n",
    "        self.bias = torch.zeros(fan_out) if bias else None\n",
    "    \n",
    "    def __call__(self, x):\n",
    "        self.out = x @ self.weight\n",
    "        if self.bias is not None:\n",
    "            self.out += self.bias\n",
    "        return self.out\n",
    "    \n",
    "    def parameters(self):\n",
    "        return [self.weight] + ([self.bias] if self.bias is not None else [])\n",
    "\n",
    "\n",
    "class Tanh():\n",
    "    def __call__(self, x):\n",
    "        self.out = torch.tanh(x)\n",
    "        return self.out\n",
    "    \n",
    "    def parameters(self):\n",
    "        return []\n",
    "\n",
    "class Flatten(nn.Module):\n",
    "    def __init__(self, n):\n",
    "        super(Flatten, self).__init__() \n",
    "        self.n = n\n",
    "\n",
    "    def __call__(self, x):\n",
    "        # print(x.shape)\n",
    "        B, T, C = x.shape\n",
    "        if T == self.n:\n",
    "            return  x.view(B, C * self.n)\n",
    "        return x.view(B, T//2, C * self.n)\n",
    "        out =  x.view(B, -1, C * self.n)\n",
    "        print(out.shape)\n",
    "        return out\n",
    "\n",
    "\n",
    "    def parameters(self):\n",
    "        return []\n",
    "    "
   ]
  },
  {
   "cell_type": "code",
   "execution_count": 247,
   "metadata": {},
   "outputs": [
    {
     "name": "stdout",
     "output_type": "stream",
     "text": [
      "40499\n",
      "Sequential(\n",
      "  (0): Embedding(27, 24)\n",
      "  (1): Flatten()\n",
      "  (2): Linear(in_features=48, out_features=48, bias=True)\n",
      "  (3): Tanh()\n",
      "  (4): Flatten()\n",
      "  (5): Linear(in_features=96, out_features=96, bias=True)\n",
      "  (6): Tanh()\n",
      "  (7): Flatten()\n",
      "  (8): Linear(in_features=192, out_features=128, bias=True)\n",
      "  (9): Tanh()\n",
      "  (10): Flatten(start_dim=1, end_dim=-1)\n",
      "  (11): Linear(in_features=128, out_features=27, bias=True)\n",
      ")\n"
     ]
    }
   ],
   "source": [
    "n_embd = 24\n",
    "n_hidden = 128\n",
    "batch_size = 128\n",
    "# C = torch.randn((vocab_size, n_embd))\n",
    "model = nn.Sequential(\n",
    "    nn.Embedding(vocab_size, n_embd),\n",
    "    Flatten(2), nn.Linear(n_embd * 2, n_embd * 2), nn.Tanh(),\n",
    "    Flatten(2), nn.Linear(n_embd * 4, n_embd * 4), nn.Tanh(),\n",
    "    Flatten(2), nn.Linear(n_embd * 8, n_hidden), nn.Tanh(),\n",
    "    nn.Flatten(start_dim=1),\n",
    "    nn.Linear(           n_hidden, vocab_size)\n",
    ")\n",
    "\n",
    "\n",
    "parameters = list(model.parameters())\n",
    "print(sum(p.numel() for p in parameters))\n",
    "\n",
    "print(model)"
   ]
  },
  {
   "cell_type": "code",
   "execution_count": 203,
   "metadata": {},
   "outputs": [
    {
     "data": {
      "text/plain": [
       "tensor([[-0.0853, -0.0411, -0.0375,  0.0556, -0.0923, -0.0358,  0.1227,  0.1058,\n",
       "         -0.0311,  0.1024, -0.2277, -0.0481, -0.1297, -0.0074, -0.0793, -0.0666,\n",
       "          0.0420,  0.0480,  0.0123,  0.0788,  0.0470,  0.0553, -0.0716, -0.0446,\n",
       "         -0.0663,  0.0776, -0.0012],\n",
       "        [-0.0853, -0.0411, -0.0375,  0.0556, -0.0923, -0.0358,  0.1227,  0.1058,\n",
       "         -0.0311,  0.1024, -0.2277, -0.0481, -0.1297, -0.0074, -0.0793, -0.0666,\n",
       "          0.0420,  0.0480,  0.0123,  0.0788,  0.0470,  0.0553, -0.0716, -0.0446,\n",
       "         -0.0663,  0.0776, -0.0012]], grad_fn=<AddmmBackward0>)"
      ]
     },
     "execution_count": 203,
     "metadata": {},
     "output_type": "execute_result"
    }
   ],
   "source": [
    "ix = torch.randint(0, Xtr.shape[0], (2, ))\n",
    "model(Xtr[ix])"
   ]
  },
  {
   "cell_type": "code",
   "execution_count": 248,
   "metadata": {},
   "outputs": [
    {
     "name": "stdout",
     "output_type": "stream",
     "text": [
      "44675\n"
     ]
    }
   ],
   "source": [
    "n_embd = 24\n",
    "n_hidden = 200\n",
    "batch_size = 128\n",
    "# C = torch.randn((vocab_size, n_embd))\n",
    "model = nn.Sequential(\n",
    "    nn.Embedding(vocab_size, n_embd),\n",
    "    nn.Flatten(start_dim=1),\n",
    "    nn.Linear(n_embd * block_size, n_hidden), nn.Tanh(),\n",
    "    nn.Linear(           n_hidden, vocab_size)\n",
    ")\n",
    "\n",
    "parameters = list(model.parameters())\n",
    "print(sum(p.numel() for p in parameters))\n"
   ]
  },
  {
   "cell_type": "code",
   "execution_count": 249,
   "metadata": {},
   "outputs": [
    {
     "name": "stdout",
     "output_type": "stream",
     "text": [
      "      0,  3.31239, test:  3.21109, train:  3.21505\n",
      "   5000,  2.32259, test:  2.14832, train:  2.15089\n",
      "  10000,  1.75707, test:  2.10637, train:  2.10647\n",
      "  15000,  2.06631, test:  2.07497, train:  2.07796\n",
      "  20000,  1.85434, test:  2.05721, train:  2.06393\n",
      "  25000,  1.94458, test:  2.02810, train:  2.03446\n",
      "  30000,  1.80108, test:  2.02372, train:  2.03297\n",
      "  35000,  1.65935, test:  2.02575, train:  2.03449\n",
      "  40000,  1.72901, test:  2.02635, train:  2.03464\n"
     ]
    }
   ],
   "source": [
    "lossi = []\n",
    "for i in range(100000):\n",
    "    ix = torch.randint(0, Xtr.shape[0], (128, ))\n",
    "    xb = Xtr[ix]\n",
    "    yb = Ytr[ix]\n",
    "    logits = model(xb)\n",
    "    loss = F.cross_entropy(logits, yb)\n",
    "    for p in parameters:\n",
    "        p.grad = None\n",
    "\n",
    "    loss.backward()\n",
    "\n",
    "    lr = 0.1 if i < 20000 else 0.03\n",
    "    # lr = 0.01\n",
    "    for p in parameters:\n",
    "        p.data -= lr * p.grad\n",
    "    \n",
    "    if i % 5000 == 0:\n",
    "        dl = F.cross_entropy(model(Xdev), Ydev).item()\n",
    "        tl = F.cross_entropy(model(Xte), Yte).item()\n",
    "        print(f'{i:7d}, {loss.item():8.5f}, test: {dl:8.5f}, train: {tl:8.5f}')\n",
    "        # print(loss.item(), i)\n",
    "    # if i > 10: break\n",
    "    # ud.append([(lr * p.grad.std() / p.std()).log10().item() for p in parameters])\n",
    "    lossi.append(loss.item())\n",
    "    if i > 40000: break\n",
    "    # break"
   ]
  },
  {
   "cell_type": "code",
   "execution_count": 257,
   "metadata": {},
   "outputs": [
    {
     "data": {
      "text/plain": [
       "[<matplotlib.lines.Line2D at 0x139ef8770>]"
      ]
     },
     "execution_count": 257,
     "metadata": {},
     "output_type": "execute_result"
    },
    {
     "data": {
      "image/png": "[encoded data removed]",
      "text/plain": [
       "<Figure size 640x480 with 1 Axes>"
      ]
     },
     "metadata": {},
     "output_type": "display_data"
    }
   ],
   "source": [
    "plt.plot(torch.tensor(lossi[:40000]).view(-1, 200).mean(1))\n",
    "\n",
    "# torch.tensor(lossi[:4000]).view(-1, 200).mean(1)\n",
    "# lossi[-100:]"
   ]
  },
  {
   "cell_type": "code",
   "execution_count": 171,
   "metadata": {},
   "outputs": [
    {
     "data": {
      "text/plain": [
       "tensor([[[-1.4075, -0.6745,  2.0021,  0.4598, -1.0982, -0.0577,  0.7311,\n",
       "          -1.5904,  0.6844,  0.3090, -0.7549, -1.2167, -0.8565,  0.5521,\n",
       "          -1.4030, -0.3761],\n",
       "         [ 0.5611,  1.5897,  2.5497,  0.4443, -1.2002, -0.9383, -0.7329,\n",
       "           0.1203,  0.2304,  0.0789, -1.3712,  1.0214, -0.4485, -0.9589,\n",
       "          -0.5496,  2.1487]],\n",
       "\n",
       "        [[ 1.7545, -0.0479, -0.6718, -1.3892,  0.7379,  0.9744,  0.1154,\n",
       "           3.5711, -1.8919,  0.8828, -0.5519, -0.2317, -2.3965,  0.7547,\n",
       "           0.3839, -1.2203],\n",
       "         [ 0.3023, -2.1313, -0.1028, -1.0906, -1.6187,  0.2417, -0.7234,\n",
       "           0.4161,  0.8959, -1.6365, -0.9594, -0.8403, -0.0186,  0.7967,\n",
       "           0.7722, -1.9648]]])"
      ]
     },
     "execution_count": 171,
     "metadata": {},
     "output_type": "execute_result"
    }
   ],
   "source": [
    "torch.cat([e[:, ::2, :], e[:, 1::2, :]], dim=2)"
   ]
  },
  {
   "cell_type": "code",
   "execution_count": 172,
   "metadata": {},
   "outputs": [
    {
     "data": {
      "text/plain": [
       "tensor([[[-1.4075, -0.6745,  2.0021,  0.4598, -1.0982, -0.0577,  0.7311,\n",
       "          -1.5904,  0.6844,  0.3090, -0.7549, -1.2167, -0.8565,  0.5521,\n",
       "          -1.4030, -0.3761],\n",
       "         [ 0.5611,  1.5897,  2.5497,  0.4443, -1.2002, -0.9383, -0.7329,\n",
       "           0.1203,  0.2304,  0.0789, -1.3712,  1.0214, -0.4485, -0.9589,\n",
       "          -0.5496,  2.1487]],\n",
       "\n",
       "        [[ 1.7545, -0.0479, -0.6718, -1.3892,  0.7379,  0.9744,  0.1154,\n",
       "           3.5711, -1.8919,  0.8828, -0.5519, -0.2317, -2.3965,  0.7547,\n",
       "           0.3839, -1.2203],\n",
       "         [ 0.3023, -2.1313, -0.1028, -1.0906, -1.6187,  0.2417, -0.7234,\n",
       "           0.4161,  0.8959, -1.6365, -0.9594, -0.8403, -0.0186,  0.7967,\n",
       "           0.7722, -1.9648]]])"
      ]
     },
     "execution_count": 172,
     "metadata": {},
     "output_type": "execute_result"
    }
   ],
   "source": [
    "e.view(2, 2, -1)"
   ]
  },
  {
   "cell_type": "code",
   "execution_count": 242,
   "metadata": {},
   "outputs": [
    {
     "name": "stdout",
     "output_type": "stream",
     "text": [
      "      0,  1.86437, test:  2.02796, train:  2.03625\n",
      "   5000,  1.91586, test:  1.99932, train:  2.00547\n",
      "  10000,  1.68982, test:  1.99592, train:  2.00272\n",
      "  15000,  2.03174, test:  1.99521, train:  2.00174\n",
      "  20000,  2.18383, test:  1.99569, train:  2.00225\n",
      "  25000,  2.03106, test:  1.99588, train:  2.00190\n",
      "  30000,  1.98890, test:  1.99591, train:  2.00272\n",
      "  35000,  1.80695, test:  1.99638, train:  2.00306\n",
      "  40000,  1.76383, test:  1.99633, train:  2.00179\n"
     ]
    }
   ],
   "source": [
    "ud = []\n",
    "from torch.optim import AdamW\n",
    "\n",
    "#   25000,  1.69626, test:  2.02098, train:  2.03392\n",
    "#   25000,  1.98112, test:  2.01002, train:  2.01222\n",
    "\n",
    "\n",
    "\n",
    "optimizer = AdamW(parameters, 0.00005)\n",
    "# optimizer = AdamW(parameters, 0.001)\n",
    "\n",
    "for i in range(100000):\n",
    "    ix = torch.randint(0, Xtr.shape[0], (128, ))\n",
    "    xb = Xtr[ix]\n",
    "    yb = Ytr[ix]\n",
    "    logits = model(xb)\n",
    "    loss = F.cross_entropy(logits, yb)\n",
    "    # loss = call_model(xb, yb)\n",
    "    \n",
    "    optimizer.zero_grad()\n",
    "    loss.backward()\n",
    "    optimizer.step()\n",
    "    if i % 5000 == 0:\n",
    "        dl = F.cross_entropy(model(Xdev), Ydev).item()\n",
    "        tl = F.cross_entropy(model(Xte), Yte).item()\n",
    "        print(f'{i:7d}, {loss.item():8.5f}, test: {dl:8.5f}, train: {tl:8.5f}')\n",
    "    # ud.append([(lr * p.grad.std() / p.std()).log10().item() for p in parameters])\n",
    "    if i > 40000: break\n",
    "    # break"
   ]
  },
  {
   "cell_type": "code",
   "execution_count": 244,
   "metadata": {},
   "outputs": [
    {
     "name": "stdout",
     "output_type": "stream",
     "text": [
      "grayson\n",
      "xiliana\n",
      "naddovie\n",
      "meylah\n",
      "verenina\n",
      "mayonie\n",
      "alexa\n",
      "chinley\n",
      "abien\n",
      "ahliyah\n"
     ]
    }
   ],
   "source": [
    "for _ in range(10):\n",
    "    context = [0] * block_size\n",
    "    out = []\n",
    "    while True:\n",
    "        logits = model(torch.tensor([context]))\n",
    "        probs = F.softmax(logits, dim=1)\n",
    "        ix = torch.multinomial(probs, num_samples=1, replacement=True)\n",
    "        ix = ix.item()\n",
    "        if ix == 0:\n",
    "            break\n",
    "\n",
    "        out.append(ix)\n",
    "        context = context[1:] + [ix]\n",
    "    print(''.join(itos[i] for i in out))"
   ]
  },
  {
   "cell_type": "code",
   "execution_count": 116,
   "metadata": {},
   "outputs": [
    {
     "data": {
      "text/plain": [
       "(tensor([[ 1.1223,  2.2266, -0.1567, -0.5323, -0.9445, -0.7808, -0.9955,  0.0873,\n",
       "           0.7515, -0.5353, -0.5558,  0.3095,  0.8466,  1.3339,  0.7712, -2.4661,\n",
       "           0.1125, -2.7191, -1.9606, -2.3728, -0.6955,  0.7626,  0.6915, -1.3316,\n",
       "          -0.2065, -0.3901, -0.6065, -0.9749, -1.5510,  0.9521, -1.0539, -0.4336,\n",
       "           0.5424,  0.1486, -0.4326,  2.1067,  0.1458, -1.3713,  1.5570,  0.9331,\n",
       "           0.9038, -2.2685,  1.0413,  0.8165,  1.8748, -1.2102, -0.4509, -0.2984],\n",
       "         [ 1.1223,  2.2266, -0.1567, -0.5323, -0.9445, -0.7808, -0.9955,  0.0873,\n",
       "           0.7515, -0.5353, -0.5558,  0.3095,  0.8466,  1.3339,  0.7712, -2.4661,\n",
       "           0.1125, -2.7191, -1.9606, -2.3728, -0.6955,  0.7626,  0.6915, -1.3316,\n",
       "          -0.2065, -0.3901, -0.6065, -0.9749, -1.5510,  0.9521, -1.0539, -0.4336,\n",
       "           0.5424,  0.1486, -0.4326,  2.1067,  0.1458, -1.3713,  1.5570,  0.9331,\n",
       "           0.9038, -2.2685,  1.0413,  0.8165,  1.8748, -1.2102, -0.4509, -0.2984]],\n",
       "        grad_fn=<ViewBackward0>),\n",
       " tensor([[[ 1.1223,  2.2266, -0.1567, -0.5323, -0.9445, -0.7808, -0.9955,\n",
       "            0.0873,  0.7515, -0.5353, -0.5558,  0.3095,  0.8466,  1.3339,\n",
       "            0.7712, -2.4661],\n",
       "          [ 0.1125, -2.7191, -1.9606, -2.3728, -0.6955,  0.7626,  0.6915,\n",
       "           -1.3316, -0.2065, -0.3901, -0.6065, -0.9749, -1.5510,  0.9521,\n",
       "           -1.0539, -0.4336],\n",
       "          [ 0.5424,  0.1486, -0.4326,  2.1067,  0.1458, -1.3713,  1.5570,\n",
       "            0.9331,  0.9038, -2.2685,  1.0413,  0.8165,  1.8748, -1.2102,\n",
       "           -0.4509, -0.2984]],\n",
       " \n",
       "         [[ 1.1223,  2.2266, -0.1567, -0.5323, -0.9445, -0.7808, -0.9955,\n",
       "            0.0873,  0.7515, -0.5353, -0.5558,  0.3095,  0.8466,  1.3339,\n",
       "            0.7712, -2.4661],\n",
       "          [ 0.1125, -2.7191, -1.9606, -2.3728, -0.6955,  0.7626,  0.6915,\n",
       "           -1.3316, -0.2065, -0.3901, -0.6065, -0.9749, -1.5510,  0.9521,\n",
       "           -1.0539, -0.4336],\n",
       "          [ 0.5424,  0.1486, -0.4326,  2.1067,  0.1458, -1.3713,  1.5570,\n",
       "            0.9331,  0.9038, -2.2685,  1.0413,  0.8165,  1.8748, -1.2102,\n",
       "           -0.4509, -0.2984]]], grad_fn=<IndexBackward0>))"
      ]
     },
     "execution_count": 116,
     "metadata": {},
     "output_type": "execute_result"
    }
   ],
   "source": [
    "embs = torch.nn.Embedding(vocab_size, n_embd)\n",
    "\n",
    "f = torch.nn.Flatten(start_dim=1)\n",
    "\n",
    "x = torch.tensor([[1, 2, 3], [1, 2, 3]])\n",
    "\n",
    "emb = embs.weight[x]\n",
    "emb\n",
    "\n",
    "f(embs(x)), emb\n",
    "\n",
    "\n"
   ]
  },
  {
   "cell_type": "code",
   "execution_count": 115,
   "metadata": {},
   "outputs": [
    {
     "data": {
      "text/plain": [
       "tensor([[-0.6362,  1.5533, -1.2454, -0.0473, -1.2544, -1.2227, -0.3731, -1.5391,\n",
       "         -0.0476, -1.3528,  0.5531,  0.1787, -0.8575,  2.9188,  0.7895,  3.2096,\n",
       "         -0.5261, -2.9601,  2.1140, -1.4822, -0.0194, -0.5918, -1.0075,  1.1531,\n",
       "          0.7110, -0.4934, -0.0518,  1.5655, -1.3935,  0.6193,  1.3038, -0.9097,\n",
       "          0.1655, -0.0335, -1.0422,  0.3588,  1.7566,  0.2014,  1.2237, -0.2169,\n",
       "         -3.4729,  0.1846,  1.3110, -1.3502,  0.4453, -0.4934, -2.4068, -1.6707],\n",
       "        [-0.6362,  1.5533, -1.2454, -0.0473, -1.2544, -1.2227, -0.3731, -1.5391,\n",
       "         -0.0476, -1.3528,  0.5531,  0.1787, -0.8575,  2.9188,  0.7895,  3.2096,\n",
       "         -0.5261, -2.9601,  2.1140, -1.4822, -0.0194, -0.5918, -1.0075,  1.1531,\n",
       "          0.7110, -0.4934, -0.0518,  1.5655, -1.3935,  0.6193,  1.3038, -0.9097,\n",
       "          0.1655, -0.0335, -1.0422,  0.3588,  1.7566,  0.2014,  1.2237, -0.2169,\n",
       "         -3.4729,  0.1846,  1.3110, -1.3502,  0.4453, -0.4934, -2.4068, -1.6707]],\n",
       "       grad_fn=<ViewBackward0>)"
      ]
     },
     "execution_count": 115,
     "metadata": {},
     "output_type": "execute_result"
    }
   ],
   "source": [
    "emb.shape\n",
    "torch.flatten(emb, start_dim=1)\n",
    "\n",
    "t = torch.nn.Flatten(start_dim=1)\n",
    "t(emb)"
   ]
  }
 ],
 "metadata": {
  "kernelspec": {
   "display_name": ".venv",
   "language": "python",
   "name": "python3"
  },
  "language_info": {
   "codemirror_mode": {
    "name": "ipython",
    "version": 3
   },
   "file_extension": ".py",
   "mimetype": "text/x-python",
   "name": "python",
   "nbconvert_exporter": "python",
   "pygments_lexer": "ipython3",
   "version": "3.12.5"
  }
 },
 "nbformat": 4,
 "nbformat_minor": 2
}
