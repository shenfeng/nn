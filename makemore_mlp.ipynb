{
 "cells": [
  {
   "cell_type": "code",
   "execution_count": 12,
   "metadata": {},
   "outputs": [],
   "source": [
    "import torch\n",
    "import torch.nn as nn\n",
    "import torch.nn.functional as F"
   ]
  },
  {
   "cell_type": "code",
   "execution_count": 383,
   "metadata": {},
   "outputs": [],
   "source": [
    "import matplotlib.pyplot as plt\n",
    "%matplotlib inline"
   ]
  },
  {
   "cell_type": "code",
   "execution_count": 8,
   "metadata": {},
   "outputs": [
    {
     "data": {
      "text/plain": [
       "(['emma',\n",
       "  'olivia',\n",
       "  'ava',\n",
       "  'isabella',\n",
       "  'sophia',\n",
       "  'charlotte',\n",
       "  'mia',\n",
       "  'amelia',\n",
       "  'harper',\n",
       "  'evelyn'],\n",
       " 32033)"
      ]
     },
     "execution_count": 8,
     "metadata": {},
     "output_type": "execute_result"
    }
   ],
   "source": [
    "words = open('names.txt', 'r').read().splitlines()\n",
    "words[:10], len(words)"
   ]
  },
  {
   "cell_type": "code",
   "execution_count": 4,
   "metadata": {},
   "outputs": [
    {
     "data": {
      "text/plain": [
       "{1: 'a',\n",
       " 2: 'b',\n",
       " 3: 'c',\n",
       " 4: 'd',\n",
       " 5: 'e',\n",
       " 6: 'f',\n",
       " 7: 'g',\n",
       " 8: 'h',\n",
       " 9: 'i',\n",
       " 10: 'j',\n",
       " 11: 'k',\n",
       " 12: 'l',\n",
       " 13: 'm',\n",
       " 14: 'n',\n",
       " 15: 'o',\n",
       " 16: 'p',\n",
       " 17: 'q',\n",
       " 18: 'r',\n",
       " 19: 's',\n",
       " 20: 't',\n",
       " 21: 'u',\n",
       " 22: 'v',\n",
       " 23: 'w',\n",
       " 24: 'x',\n",
       " 25: 'y',\n",
       " 26: 'z',\n",
       " 0: '.'}"
      ]
     },
     "execution_count": 4,
     "metadata": {},
     "output_type": "execute_result"
    }
   ],
   "source": [
    "chars = ''.join(sorted(set(''.join(words))))\n",
    "chars\n",
    "\n",
    "stoi = {s:i + 1 for i, s in enumerate(chars)}\n",
    "stoi['.'] = 0\n",
    "itos = {i: s for s, i in stoi.items()}\n",
    "itos\n"
   ]
  },
  {
   "cell_type": "code",
   "execution_count": 551,
   "metadata": {},
   "outputs": [],
   "source": [
    "block_size = 4  # context length: how many characters to look back\n",
    "\n",
    "def build_ds(words):\n",
    "    X, Y = [], []\n",
    "    for w in words:\n",
    "        # print(w)\n",
    "        context = [0] * block_size\n",
    "        for c in w + '.':\n",
    "            ix = stoi[c]\n",
    "            X.append(context)\n",
    "            Y.append(ix)\n",
    "\n",
    "            # print(''.join(itos[i] for i in context), '->', itos[ix])\n",
    "            context = context[1:] + [ix]\n",
    "\n",
    "    X = torch.tensor(X)\n",
    "    Y = torch.tensor(Y)\n",
    "    return X, Y\n",
    "\n",
    "import random\n",
    "random.shuffle(words)\n",
    "n = len(words)\n",
    "n1 = int(n * 0.8)\n",
    "n2 = int(n * 0.9)\n",
    "\n",
    "Xtr, Ytr = build_ds(words[:n1])\n",
    "Xdev, Ydev = build_ds(words[n1:n2])\n",
    "Xte, Yte = build_ds(words[n2:])\n"
   ]
  },
  {
   "cell_type": "code",
   "execution_count": 635,
   "metadata": {},
   "outputs": [
    {
     "data": {
      "text/plain": [
       "24011"
      ]
     },
     "execution_count": 635,
     "metadata": {},
     "output_type": "execute_result"
    }
   ],
   "source": [
    "dim = 16\n",
    "hidden = 256\n",
    "C = torch.randn((27, dim), requires_grad=True)\n",
    "g = torch.Generator().manual_seed(42)\n",
    "\n",
    "w1 = torch.randn((dim * block_size, hidden), generator=g, requires_grad=True)\n",
    "b1 = torch.randn((hidden,), generator=g, requires_grad=True)\n",
    "\n",
    "w12 = torch.randn((hidden, hidden), generator=g, requires_grad=True)\n",
    "b12 = torch.randn((hidden,), generator=g, requires_grad=True)\n",
    "\n",
    "w2 = torch.randn((hidden, 27), generator=g, requires_grad=True)\n",
    "b2 = torch.randn((27,), generator=g, requires_grad=True)\n",
    "# params = [C, w1, b1, w2, b2, w12, b12]\n",
    "params = [C, w1, b1, w2, b2]\n",
    "\n",
    "\n",
    "losses = []\n",
    "grads_abs_mean = []\n",
    "sum([p.nelement() for p in params])"
   ]
  },
  {
   "cell_type": "code",
   "execution_count": 636,
   "metadata": {},
   "outputs": [
    {
     "name": "stdout",
     "output_type": "stream",
     "text": [
      "0, test: 27.65188, train: 27.54079\n",
      "10000, test: 2.46517, train: 2.43419\n",
      "20000, test: 2.34261, train: 2.30997\n",
      "30000, test: 2.28792, train: 2.24458\n",
      "40000, test: 2.28250, train: 2.24095\n",
      "50000, test: 2.25513, train: 2.20687\n",
      "60000, test: 2.25057, train: 2.19979\n",
      "70000, test: 2.22237, train: 2.17173\n",
      "80000, test: 2.20048, train: 2.14466\n",
      "90000, test: 2.20071, train: 2.13865\n",
      "100000, test: 2.21379, train: 2.14529\n",
      "110000, test: 2.18473, train: 2.11599\n",
      "120000, test: 2.18797, train: 2.11211\n",
      "130000, test: 2.17781, train: 2.09319\n",
      "140000, test: 2.17406, train: 2.09302\n",
      "150000, test: 2.18541, train: 2.09796\n",
      "160000, test: 2.16492, train: 2.07242\n",
      "170000, test: 2.16932, train: 2.07565\n",
      "180000, test: 2.15562, train: 2.05922\n",
      "190000, test: 2.16025, train: 2.05866\n"
     ]
    }
   ],
   "source": [
    "\n",
    "\n",
    "def eval(x, y):\n",
    "    emb = C[x]\n",
    "    h = torch.tanh(emb.view(-1, dim * block_size) @ w1 + b1)\n",
    "    logits = h @ w2 + b2\n",
    "    loss = F.cross_entropy(logits, y)\n",
    "    return loss.item()\n",
    "    # print(x.shape[1], loss.item())\n",
    "\n",
    "\n",
    "for i in range(200000):\n",
    "    ix = torch.randint(0, Xtr.shape[0], (128,), generator=g)\n",
    "    x = Xtr[ix]\n",
    "    y = Ytr[ix]\n",
    "\n",
    "    emb = C[x]\n",
    "    h = torch.tanh(emb.view(-1, dim * block_size) @ w1 + b1)\n",
    "    # h = torch.tanh(h @ w12 + b12)\n",
    "    logits = h @ w2 + b2\n",
    "\n",
    "    # counts = logits.exp()\n",
    "    # prob = counts / counts.sum(1, keepdim=True)\n",
    "    # -prob[torch.arange(4), Y[:4]].log().mean(), F.cross_entropy(logits, Y[:4])\n",
    "\n",
    "    loss = F.cross_entropy(logits, y)\n",
    "\n",
    "    for p in params:\n",
    "        p.grad = None\n",
    "    loss.backward()\n",
    "    losses.append(loss.item())\n",
    "\n",
    "    lr = 0.1\n",
    "    if i > 100000: lr = 0.01\n",
    "    if i % 10000 == 0:\n",
    "        print(f'{i}, test: {eval(Xdev, Ydev):.5f}, train: {eval(Xtr, Ytr):.5f}')\n",
    "\n",
    "    for p in params:\n",
    "        p.data -= p.grad * 0.1\n",
    "\n"
   ]
  },
  {
   "cell_type": "code",
   "execution_count": 634,
   "metadata": {},
   "outputs": [
    {
     "name": "stdout",
     "output_type": "stream",
     "text": [
      "kazan\n",
      "zyoarri\n",
      "neda\n",
      "mikf\n",
      "kemaydon\n",
      "ryyah\n",
      "arkanio\n",
      "emmlee\n",
      "arnie\n",
      "zabat\n",
      "dipphire\n",
      "kolynn\n",
      "kenth\n",
      "firsly\n",
      "parleyah\n",
      "nahariveen\n",
      "dill\n",
      "kaziyah\n",
      "rovion\n",
      "ezola\n"
     ]
    }
   ],
   "source": [
    "import numpy\n",
    "torch.set_printoptions(sci_mode=False, precision=4)\n",
    "\n",
    "from collections import Counter\n",
    "\n",
    "for _ in range(20):\n",
    "    out = []\n",
    "    context = [0] * block_size\n",
    "    while True:\n",
    "        emb = C[context]\n",
    "        h = torch.tanh(emb.view(-1, dim * block_size) @ w1 + b1)\n",
    "        # h = torch.tanh(h @ w12 + b12)\n",
    "        logits = h @ w2 + b2\n",
    "        prob = F.softmax(logits, dim=1)\n",
    "        ix = torch.multinomial(prob, num_samples=1, replacement=True).item()\n",
    "        if ix == 0:\n",
    "            \n",
    "            break\n",
    "\n",
    "        out.append(ix)\n",
    "        context = context[1:] + [ix]\n",
    "    print(''.join(itos[i] for i in out))\n",
    "\n",
    "# freqs = Counter(ix.view(-1).tolist())\n",
    "# plt.figure(figsize=(30, 10))\n",
    "# x = freqs.keys()\n",
    "# plt.bar(x, freqs.values())\n",
    "# plt.xticks(ticks=x)\n",
    "\n",
    "\n",
    "# plt.hist(ix.view(-1).numpy(), bins=26)"
   ]
  },
  {
   "cell_type": "code",
   "execution_count": 476,
   "metadata": {},
   "outputs": [
    {
     "name": "stdout",
     "output_type": "stream",
     "text": [
      "0.007408410310745239 torch.Size([27, 32]) 0.0006000390858389437 0.011399585753679276\n",
      "0.002261834917590022 torch.Size([96, 200]) 1.4525800906994846e-05 0.0032279849983751774\n",
      "0.0018330737948417664 torch.Size([200]) 0.00020467022841330618 0.0024487387854605913\n",
      "0.010478814132511616 torch.Size([200, 27]) 4.415158863513291e-11 0.014366596937179565\n",
      "0.011084049008786678 torch.Size([27]) -3.3631092355435044e-10 0.01574217714369297\n"
     ]
    }
   ],
   "source": [
    "# plt.plot(10 ** torch.linspace(-3, 0, 100))\n",
    "# plt.plot(lrs, losses)\n",
    "for p in params:\n",
    "    print(p.grad.abs().mean().item(), p.shape, p.grad.mean().item(), p.grad.std().item())"
   ]
  },
  {
   "cell_type": "code",
   "execution_count": 504,
   "metadata": {},
   "outputs": [
    {
     "data": {
      "text/plain": [
       "tensor(-0.2352, grad_fn=<SelectBackward0>)"
      ]
     },
     "execution_count": 504,
     "metadata": {},
     "output_type": "execute_result"
    }
   ],
   "source": [
    "C[10,0]"
   ]
  },
  {
   "cell_type": "code",
   "execution_count": 516,
   "metadata": {},
   "outputs": [
    {
     "data": {
      "image/png": "[encoded data removed]",
      "text/plain": [
       "<Figure size 1000x1000 with 1 Axes>"
      ]
     },
     "metadata": {},
     "output_type": "display_data"
    }
   ],
   "source": [
    "plt.figure(figsize=(10, 10))\n",
    "plt.scatter(C[:,2].data, C[:, 1].data, s=200)\n",
    "for i in range(C.shape[0]):\n",
    "    plt.text(C[i, 2].item(), C[i, 1].item(), itos[i], color='white', ha='center', va='center')\n"
   ]
  },
  {
   "cell_type": "code",
   "execution_count": 515,
   "metadata": {},
   "outputs": [
    {
     "data": {
      "image/png": "[encoded data removed]",
      "text/plain": [
       "<Figure size 1000x1000 with 1 Axes>"
      ]
     },
     "metadata": {},
     "output_type": "display_data"
    }
   ],
   "source": [
    "plt.figure(figsize=(10, 10))\n",
    "plt.scatter(C[:,0].data, C[:, 1].data, s=200)\n",
    "for i in range(C.shape[0]):\n",
    "    plt.text(C[i, 0].item(), C[i, 1].item(), itos[i], color='white', ha='center', va='center')\n"
   ]
  },
  {
   "cell_type": "code",
   "execution_count": 533,
   "metadata": {},
   "outputs": [
    {
     "data": {
      "text/plain": [
       "[<matplotlib.lines.Line2D at 0x1673e92e0>]"
      ]
     },
     "execution_count": 533,
     "metadata": {},
     "output_type": "execute_result"
    },
    {
     "data": {
      "image/png": "[encoded data removed]",
      "text/plain": [
       "<Figure size 2000x500 with 1 Axes>"
      ]
     },
     "metadata": {},
     "output_type": "display_data"
    }
   ],
   "source": [
    "ax = plt.figure(figsize=(20, 5))\n",
    "plt.plot(grads_abs_mean)"
   ]
  },
  {
   "cell_type": "code",
   "execution_count": 525,
   "metadata": {},
   "outputs": [
    {
     "data": {
      "text/plain": [
       "(array([ 12.,   9.,  30.,  31.,  71., 128., 155., 204., 376., 477., 466.,\n",
       "        259., 191., 102., 102.,  36.,  23.,  18.,   8.,   2.]),\n",
       " array([-0.0384731 , -0.0344864 , -0.03049971, -0.02651301, -0.02252632,\n",
       "        -0.01853962, -0.01455293, -0.01056623, -0.00657954, -0.00259285,\n",
       "         0.00139385,  0.00538054,  0.00936724,  0.01335393,  0.01734063,\n",
       "         0.02132732,  0.02531401,  0.02930071,  0.0332874 ,  0.0372741 ,\n",
       "         0.04126079]),\n",
       " <BarContainer object of 20 artists>)"
      ]
     },
     "execution_count": 525,
     "metadata": {},
     "output_type": "execute_result"
    },
    {
     "data": {
      "image/png": "[encoded data removed]",
      "text/plain": [
       "<Figure size 1000x1000 with 1 Axes>"
      ]
     },
     "metadata": {},
     "output_type": "display_data"
    }
   ],
   "source": [
    "plt.figure(figsize=(10, 10))\n",
    "plt.hist(w2.grad.view(-1).detach().numpy(), bins=20)\n"
   ]
  },
  {
   "cell_type": "code",
   "execution_count": 337,
   "metadata": {},
   "outputs": [],
   "source": [
    "def compress_grads(params):\n",
    "    all_grads = []\n",
    "    for p in params:\n",
    "        all_grads.extend(p.grad.flatten().tolist())\n",
    "\n",
    "    import struct\n",
    "    grad_bytes = b''.join(struct.pack('i', int(f * 100000)) for f in all_grads)\n",
    "    \n",
    "    # Compress the bytes using zlib\n",
    "    import zlib\n",
    "    compressed_grads = zlib.compress(grad_bytes)\n",
    "\n",
    "    print(len(all_grads), len(compressed_grads), len(grad_bytes))"
   ]
  },
  {
   "cell_type": "code",
   "execution_count": 338,
   "metadata": {},
   "outputs": [
    {
     "name": "stdout",
     "output_type": "stream",
     "text": [
      "10187 19983 40748\n"
     ]
    }
   ],
   "source": [
    "compress_grads(all_grads)\n"
   ]
  },
  {
   "cell_type": "code",
   "execution_count": 88,
   "metadata": {},
   "outputs": [
    {
     "data": {
      "text/plain": [
       "(tensor([[[-1.0204, -0.3262, -0.8112, -0.0609,  0.2713],\n",
       "          [ 0.9692, -0.3279, -2.1037,  0.5561,  0.3346],\n",
       "          [ 0.2576,  1.9321, -0.9809, -1.4207,  0.9202]],\n",
       " \n",
       "         [[-0.4995, -0.6821,  0.5648, -0.1015, -1.1464],\n",
       "          [-0.7195, -0.3031, -0.3871, -0.2781,  0.3773],\n",
       "          [ 0.7610,  0.2097, -0.8640, -1.1704, -0.6160]]]),\n",
       " tensor([[[-1.0204,  0.9692,  0.2576],\n",
       "          [-0.4995, -0.7195,  0.7610]],\n",
       " \n",
       "         [[-0.3262, -0.3279,  1.9321],\n",
       "          [-0.6821, -0.3031,  0.2097]],\n",
       " \n",
       "         [[-0.8112, -2.1037, -0.9809],\n",
       "          [ 0.5648, -0.3871, -0.8640]],\n",
       " \n",
       "         [[-0.0609,  0.5561, -1.4207],\n",
       "          [-0.1015, -0.2781, -1.1704]],\n",
       " \n",
       "         [[ 0.2713,  0.3346,  0.9202],\n",
       "          [-1.1464,  0.3773, -0.6160]]]))"
      ]
     },
     "execution_count": 88,
     "metadata": {},
     "output_type": "execute_result"
    }
   ],
   "source": [
    "import numpy\n",
    "\n",
    "a = numpy.array([1, 2, 3])\n",
    "t = torch.from_numpy(a)\n",
    "a[1] = 1\n",
    "a, t, t.numpy()\n",
    "\n",
    "x = torch.randn(2, 3, 5)\n",
    "x, x.permute(2, 0, 1)"
   ]
  },
  {
   "cell_type": "code",
   "execution_count": 113,
   "metadata": {},
   "outputs": [],
   "source": [
    "input = torch.randn(3, 2, requires_grad=True)\n",
    "target = torch.rand(3, 2, requires_grad=False)\n",
    "loss = F.binary_cross_entropy(torch.sigmoid(input), target)\n",
    "# loss.backward()"
   ]
  },
  {
   "cell_type": "code",
   "execution_count": 127,
   "metadata": {},
   "outputs": [
    {
     "data": {
      "text/plain": [
       "np.float64(-3.295836866004329)"
      ]
     },
     "execution_count": 127,
     "metadata": {},
     "output_type": "execute_result"
    }
   ],
   "source": [
    "numpy.log(1/27)"
   ]
  },
  {
   "cell_type": "code",
   "execution_count": 125,
   "metadata": {},
   "outputs": [
    {
     "data": {
      "text/plain": [
       "(tensor([[0.3567, 0.4047],\n",
       "         [0.9544, 0.8270],\n",
       "         [0.9609, 0.8268]]),\n",
       " tensor([[0.4709, 0.4627],\n",
       "         [0.4560, 0.5313],\n",
       "         [0.7999, 0.5339]], grad_fn=<SigmoidBackward0>))"
      ]
     },
     "execution_count": 125,
     "metadata": {},
     "output_type": "execute_result"
    }
   ],
   "source": []
  }
 ],
 "metadata": {
  "kernelspec": {
   "display_name": ".venv",
   "language": "python",
   "name": "python3"
  },
  "language_info": {
   "codemirror_mode": {
    "name": "ipython",
    "version": 3
   },
   "file_extension": ".py",
   "mimetype": "text/x-python",
   "name": "python",
   "nbconvert_exporter": "python",
   "pygments_lexer": "ipython3",
   "version": "3.12.5"
  }
 },
 "nbformat": 4,
 "nbformat_minor": 2
}
