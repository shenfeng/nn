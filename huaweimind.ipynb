{
 "cells": [
  {
   "cell_type": "code",
   "execution_count": 1,
   "metadata": {},
   "outputs": [],
   "source": [
    "import ebooklib\n",
    "from ebooklib import epub\n",
    "import glob\n",
    "from collections import defaultdict\n",
    "import os\n",
    "import markdown"
   ]
  },
  {
   "cell_type": "code",
   "execution_count": 62,
   "metadata": {},
   "outputs": [],
   "source": []
  },
  {
   "cell_type": "code",
   "execution_count": 6,
   "metadata": {},
   "outputs": [],
   "source": [
    "# b = epub.read_epub('/Users/feng/Desktop/huaweimind-master/huawei/任正非思想之路1994-2023汇编本/任正非思想之路1994-2023.epub')"
   ]
  },
  {
   "cell_type": "code",
   "execution_count": 47,
   "metadata": {},
   "outputs": [
    {
     "data": {
      "text/plain": [
       "\u001b[0;31mInit signature:\u001b[0m \u001b[0mepub\u001b[0m\u001b[0;34m.\u001b[0m\u001b[0mLink\u001b[0m\u001b[0;34m(\u001b[0m\u001b[0mhref\u001b[0m\u001b[0;34m,\u001b[0m \u001b[0mtitle\u001b[0m\u001b[0;34m,\u001b[0m \u001b[0muid\u001b[0m\u001b[0;34m=\u001b[0m\u001b[0;32mNone\u001b[0m\u001b[0;34m)\u001b[0m\u001b[0;34m\u001b[0m\u001b[0;34m\u001b[0m\u001b[0m\n",
       "\u001b[0;31mDocstring:\u001b[0m      <no docstring>\n",
       "\u001b[0;31mSource:\u001b[0m        \n",
       "\u001b[0;32mclass\u001b[0m \u001b[0mLink\u001b[0m\u001b[0;34m(\u001b[0m\u001b[0mobject\u001b[0m\u001b[0;34m)\u001b[0m\u001b[0;34m:\u001b[0m\u001b[0;34m\u001b[0m\n",
       "\u001b[0;34m\u001b[0m\u001b[0;34m\u001b[0m\n",
       "\u001b[0;34m\u001b[0m    \u001b[0;32mdef\u001b[0m \u001b[0m__init__\u001b[0m\u001b[0;34m(\u001b[0m\u001b[0mself\u001b[0m\u001b[0;34m,\u001b[0m \u001b[0mhref\u001b[0m\u001b[0;34m,\u001b[0m \u001b[0mtitle\u001b[0m\u001b[0;34m,\u001b[0m \u001b[0muid\u001b[0m\u001b[0;34m=\u001b[0m\u001b[0;32mNone\u001b[0m\u001b[0;34m)\u001b[0m\u001b[0;34m:\u001b[0m\u001b[0;34m\u001b[0m\n",
       "\u001b[0;34m\u001b[0m        \u001b[0mself\u001b[0m\u001b[0;34m.\u001b[0m\u001b[0mhref\u001b[0m \u001b[0;34m=\u001b[0m \u001b[0mhref\u001b[0m\u001b[0;34m\u001b[0m\n",
       "\u001b[0;34m\u001b[0m        \u001b[0mself\u001b[0m\u001b[0;34m.\u001b[0m\u001b[0mtitle\u001b[0m \u001b[0;34m=\u001b[0m \u001b[0mtitle\u001b[0m\u001b[0;34m\u001b[0m\n",
       "\u001b[0;34m\u001b[0m        \u001b[0mself\u001b[0m\u001b[0;34m.\u001b[0m\u001b[0muid\u001b[0m \u001b[0;34m=\u001b[0m \u001b[0muid\u001b[0m\u001b[0;34m\u001b[0m\u001b[0;34m\u001b[0m\u001b[0m\n",
       "\u001b[0;31mFile:\u001b[0m           /opt/homebrew/lib/python3.11/site-packages/ebooklib/epub.py\n",
       "\u001b[0;31mType:\u001b[0m           type\n",
       "\u001b[0;31mSubclasses:\u001b[0m     "
      ]
     },
     "metadata": {},
     "output_type": "display_data"
    }
   ],
   "source": [
    "def read_content(f):\n",
    "    pass"
   ]
  },
  {
   "cell_type": "code",
   "execution_count": 2,
   "metadata": {},
   "outputs": [],
   "source": [
    "book = epub.EpubBook()\n",
    "files = glob.glob('/Users/feng/Desktop/huaweimind-master/huawei/*/*.md')\n",
    "chapters = defaultdict(list)\n",
    "for f in files:\n",
    "    name = os.path.basename(f)\n",
    "    year = int(name[:4])\n",
    "\n",
    "    for idx, c in enumerate(name):\n",
    "        if not c.isdigit():\n",
    "            break\n",
    "\n",
    "    date = int(name[:idx])\n",
    "    name = name[idx:].strip('-')\n",
    "\n",
    "    if '.md' in name:\n",
    "        name = name[:-3]\n",
    "\n",
    "    chapters[year].append((date, name, f))\n",
    "\n",
    "toc = []\n",
    "all_c = []\n",
    "for year, docs in sorted(chapters.items(), reverse=True):\n",
    "    docs = sorted(docs)\n",
    "\n",
    "    sections = []\n",
    "    for idx, (date, title, f) in enumerate(docs):\n",
    "        fn = '%d_%d.xhtml' % (idx, date)\n",
    "        c = epub.EpubHtml(title=title, file_name=fn, lang=\"zh-cn\")\n",
    "        md = open(f, encoding='utf-8').read()\n",
    "        if not md:\n",
    "            continue\n",
    "        c.content = '<p>%d</p> %s' % (date, markdown.markdown(md))\n",
    "        # print(c.content.split()[0])\n",
    "        book.add_item(c)        \n",
    "        sections.append(c)\n",
    "        all_c.append(c)\n",
    "    \n",
    "    toc.append((epub.Section(\"%d\" % year), sections))\n",
    "\n",
    "\n",
    "book.spine = all_c\n",
    "book.toc = toc\n",
    "# add default NCX and Nav file\n",
    "book.add_item(epub.EpubNcx())\n",
    "book.add_item(epub.EpubNav())\n",
    "# os.remove('/tmp/test.epub')\n",
    "\n",
    "book.set_identifier(\"id123456\")\n",
    "book.set_title(\"任正非思想之路 1994-2023\")\n",
    "book.set_language(\"en\")\n",
    "book.add_author(\"任正非\")\n",
    "\n",
    "\n",
    "epub.write_epub(\"/tmp/huaweimind_1994_2023.epub\", book, {})"
   ]
  },
  {
   "cell_type": "code",
   "execution_count": 105,
   "metadata": {},
   "outputs": [
    {
     "data": {
      "text/plain": [
       "(3188430, 773)"
      ]
     },
     "execution_count": 105,
     "metadata": {},
     "output_type": "execute_result"
    }
   ],
   "source": [
    "files = glob.glob('/Users/feng/Desktop/huaweimind-master/huawei/*/*.md')\n",
    "txts = [open(f).read() for f in files]\n",
    "sum([len(t) for t in txts]), len(files)"
   ]
  },
  {
   "cell_type": "code",
   "execution_count": null,
   "metadata": {},
   "outputs": [],
   "source": []
  }
 ],
 "metadata": {
  "kernelspec": {
   "display_name": "Python 3 (ipykernel)",
   "language": "python",
   "name": "python3"
  },
  "language_info": {
   "codemirror_mode": {
    "name": "ipython",
    "version": 3
   },
   "file_extension": ".py",
   "mimetype": "text/x-python",
   "name": "python",
   "nbconvert_exporter": "python",
   "pygments_lexer": "ipython3",
   "version": "3.11.6"
  }
 },
 "nbformat": 4,
 "nbformat_minor": 4
}
